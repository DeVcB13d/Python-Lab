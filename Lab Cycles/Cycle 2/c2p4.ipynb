{
  "nbformat": 4,
  "nbformat_minor": 0,
  "metadata": {
    "colab": {
      "name": "c2p4.ipynb",
      "provenance": [],
      "collapsed_sections": []
    },
    "kernelspec": {
      "name": "python3",
      "display_name": "Python 3"
    },
    "language_info": {
      "name": "python"
    }
  },
  "cells": [
    {
      "cell_type": "markdown",
      "source": [
        "Problem Statement\n",
        "\n",
        "Write a program to create a class Box with data members length,\n",
        "breadth, height, area, and volume. Provider constructor that enables\n",
        "initialization with one parameter (for cube), two parameters (for\n",
        "square prism) three parameters (rectangular prism). Also, provide\n",
        "functions to calculate area and volume.\n",
        "Create a list of N boxes with random measurements and print the\n",
        "details of the box with maximum volume: area ratio."
      ],
      "metadata": {
        "id": "dOTIdtolzB4S"
      }
    },
    {
      "cell_type": "code",
      "execution_count": null,
      "metadata": {
        "id": "vosoBCnGy-hM"
      },
      "outputs": [],
      "source": [
        "class Box:\n",
        "  def __init__(self,lens):\n",
        "    if len(lens) == 3:\n",
        "      self.length = lens[0]\n",
        "      self.breadth = lens[1]\n",
        "      self.height = lens[2]\n",
        "    elif len(lens) == 1:\n",
        "      self.length = lens[0]\n",
        "      self.breadth = lens[0]\n",
        "      self.height = lens[0]\n",
        "    elif len(lens) == 2:\n",
        "      self.length = lens[1]\n",
        "      self.breadth = lens[1]\n",
        "      self.height = lens[0]\n",
        "    self.area = self.length * self.breadth\n",
        "    self.volume = self.length * self.breadth * self.height\n",
        "    self.AVratio = self.area/self.volume\n",
        "  def get_area(self):\n",
        "    self.area = self.length * self.breadth\n",
        "  def get_volume(self):\n",
        "    self.volume = self.length * self.breadth * self.height\n",
        "  def show(self):\n",
        "    print(\"Dimensions : \",self.length,self.breadth,self.height,sep = \" \")\n",
        "    print(\"Area       : \",self.area)\n",
        "    print(\"Volume     : \",self.volume)\n",
        "  "
      ]
    },
    {
      "cell_type": "code",
      "source": [
        "#Creating Boxes with Random dimensions\n",
        "import random\n",
        "N = int(input(\"Enter Number of boxes to create ; \"))\n",
        "Boxlist = [i for i in range(0,N)]\n",
        "AVRatios = [i for i in range(0,N)]\n",
        "for i in range(0,N):\n",
        "  Usize = random.randint(1,3)\n",
        "  l = []\n",
        "  for j in range(1,Usize+1):\n",
        "    l.append(random.randint(1,21))\n",
        "  Boxlist[i] = Box(l)\n",
        "  AVRatios[i] = Boxlist[i].AVratio\n",
        "\n",
        "#To print the details of the box with maximum volume: area ratio\n",
        "max_dim = AVRatios.index(max(AVRatios))\n",
        "Boxlist[max_dim].show()\n",
        "  \n",
        "\n"
      ],
      "metadata": {
        "id": "FnESqVYr1bQu",
        "colab": {
          "base_uri": "https://localhost:8080/"
        },
        "outputId": "eee901e2-630f-41ed-af35-da405497a447"
      },
      "execution_count": null,
      "outputs": [
        {
          "output_type": "stream",
          "name": "stdout",
          "text": [
            "Enter Number of boxes to create ; 8\n",
            "Dimensions :  20 17 4\n",
            "Area       :  340\n",
            "Volume     :  1360\n"
          ]
        }
      ]
    }
  ]
}