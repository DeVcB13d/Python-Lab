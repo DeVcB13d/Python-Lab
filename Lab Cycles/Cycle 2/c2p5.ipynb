{
  "nbformat": 4,
  "nbformat_minor": 0,
  "metadata": {
    "colab": {
      "name": "c2p5.ipynb",
      "provenance": []
    },
    "kernelspec": {
      "name": "python3",
      "display_name": "Python 3"
    },
    "language_info": {
      "name": "python"
    }
  },
  "cells": [
    {
      "cell_type": "markdown",
      "source": [
        "Write a program to create a parent class, 3DShapes, with methods\n",
        "printVolume() and printArea(), which prints the Volume and Area,\n",
        "respectively. Create classes Cylinder and Sphere by inheriting\n",
        "3DShapes class. Using these child classes, calculate and print the\n",
        "volume and area of a cylinder and sphere."
      ],
      "metadata": {
        "id": "L9y0dc1NVk5G"
      }
    },
    {
      "cell_type": "code",
      "execution_count": 6,
      "metadata": {
        "id": "Cgj9TrQzBu8j",
        "colab": {
          "base_uri": "https://localhost:8080/"
        },
        "outputId": "ac7b547a-7d6a-4dc1-8fb6-8aa7f0442910"
      },
      "outputs": [
        {
          "output_type": "stream",
          "name": "stdout",
          "text": [
            "For cylinder : \n",
            "Enter the radius : 5\n",
            "Enter the height : 6\n",
            "Volume  :  471.0\n",
            "Surface Area :  345.4\n",
            "For Sphere : \n",
            "Enter the radius : 6\n",
            "<class '__main__.Sphere'>\n",
            "Volume  :  904.3199999999999\n",
            "Surface Area :  452.15999999999997\n"
          ]
        }
      ],
      "source": [
        "#Declaring Base class 3D shapes\n",
        "class Shapes3D:\n",
        "  def printVolume(self):\n",
        "    print(\"Volume  : \",self.volume)\n",
        "  def printArea(self):\n",
        "    print(\"Surface Area : \",self.area)\n",
        "\n",
        "#Deriving Cylinder and Sphere classes\n",
        "class Cylinder(Shapes3D):\n",
        "  def __init__(self,r,h):\n",
        "    self.r = r\n",
        "    self.h = h\n",
        "    self.area = (2*3.14*r*h) + (2*3.14*r*r)\n",
        "    self.volume = (3.14*r*r*h)\n",
        "\n",
        "\n",
        "class Sphere(Shapes3D):\n",
        "  def __init__(self,r):\n",
        "    self.r = r\n",
        "    self.area = 4*3.14*r*r\n",
        "    self.volume = (4/3)*3.14*(r**3)\n",
        "\n",
        "\n",
        "#main function\n",
        "\n",
        "print(\"For cylinder : \")\n",
        "rC = int(input(\"Enter the radius : \"))\n",
        "hC = int(input(\"Enter the height : \"))\n",
        "C1 = Cylinder(rC,hC)\n",
        "C1.printVolume()\n",
        "C1.printArea()\n",
        "\n",
        "\n",
        "print(\"For Sphere : \")\n",
        "rS = int(input(\"Enter the radius : \"))\n",
        "S1 = Sphere(rS)\n",
        "S1.printVolume()\n",
        "S1.printArea()\n",
        "\n"
      ]
    }
  ]
}