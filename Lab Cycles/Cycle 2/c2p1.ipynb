{
  "nbformat": 4,
  "nbformat_minor": 0,
  "metadata": {
    "colab": {
      "name": "c2p1.ipynb",
      "provenance": []
    },
    "kernelspec": {
      "name": "python3",
      "display_name": "Python 3"
    },
    "language_info": {
      "name": "python"
    }
  },
  "cells": [
    {
      "cell_type": "markdown",
      "source": [
        "Suppose a newly born pair of rabbits, one male and one female, are\n",
        "put in a field. Rabbits can mate at the age of one month so that at the end of its second month, a female has produced another pair of\n",
        "rabbits. Suppose that our rabbits never die and that the female always produces one new pair every month from the second month. Develop a program to show a table containing the number of pairs of\n",
        "rabbits in the first N months"
      ],
      "metadata": {
        "id": "cCID_vu5uy5r"
      }
    },
    {
      "cell_type": "code",
      "source": [
        "def fib(N):\n",
        "  Flist = [0,1]\n",
        "  a = 1\n",
        "  b = 1\n",
        "  for i in range(1, N+1):\n",
        "    t = a \n",
        "    b = a + b\n",
        "    a = b\n",
        "    b = t\n",
        "    Flist.append(a)\n",
        "  return Flist\n",
        "\n",
        "f = fib(20)\n",
        "print(f)"
      ],
      "metadata": {
        "colab": {
          "base_uri": "https://localhost:8080/"
        },
        "id": "wMztdPwLUEvM",
        "outputId": "5ee27414-928a-4e87-de00-db895dc73fed"
      },
      "execution_count": null,
      "outputs": [
        {
          "output_type": "stream",
          "name": "stdout",
          "text": [
            "[0, 1, 2, 3, 5, 8, 13, 21, 34, 55, 89, 144, 233, 377, 610, 987, 1597, 2584, 4181, 6765, 10946, 17711]\n"
          ]
        }
      ]
    },
    {
      "cell_type": "code",
      "source": [
        "def make_table(N):\n",
        "  l1 = fib(N)\n",
        "  print(\"Month\\tPairs\")\n",
        "  for i in range(1,N+1):\n",
        "    print(i,\"\\t\",l1[i])\n",
        "make_table(5)"
      ],
      "metadata": {
        "id": "AnmVxKnfbD5M",
        "colab": {
          "base_uri": "https://localhost:8080/"
        },
        "outputId": "23a1a317-90e1-4eb5-f30f-3ac8016e03a5"
      },
      "execution_count": null,
      "outputs": [
        {
          "output_type": "stream",
          "name": "stdout",
          "text": [
            "Month\tPairs\n",
            "1 \t 1\n",
            "2 \t 2\n",
            "3 \t 3\n",
            "4 \t 5\n",
            "5 \t 8\n"
          ]
        }
      ]
    }
  ]
}