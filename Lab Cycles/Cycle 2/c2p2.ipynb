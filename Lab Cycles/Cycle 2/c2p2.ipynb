{
  "nbformat": 4,
  "nbformat_minor": 0,
  "metadata": {
    "colab": {
      "name": "c2p2.ipynb",
      "provenance": [],
      "collapsed_sections": []
    },
    "kernelspec": {
      "name": "python3",
      "display_name": "Python 3"
    },
    "language_info": {
      "name": "python"
    }
  },
  "cells": [
    {
      "cell_type": "markdown",
      "source": [
        "Write a program to read a string containing numbers separated by a\n",
        "space and convert it as a list of integers. Perform the following\n",
        "operations on it.\n",
        "1. Rotate elements in a list by 'k' position to the right\n",
        "2. Convert the list into a tuple using list comprehension\n",
        "3. Remove all duplicates from the tuple and convert them\n",
        "into a list again.\n",
        "4. Create another list by putting the results of the evaluation\n",
        "of the function 𝑓(𝑥) = 𝑥\n",
        "2 – 𝑥 with each element in the\n",
        "final list\n",
        "5. After sorting them individually, merge the two lists to\n",
        "create a single sorted list"
      ],
      "metadata": {
        "id": "anjDfn6UpeVJ"
      }
    },
    {
      "cell_type": "code",
      "execution_count": null,
      "metadata": {
        "id": "R0ct_lxspT1q"
      },
      "outputs": [],
      "source": [
        "#Converting String containing numbers separated by a space to list of integers\n",
        "def conv_to_list(str1):\n",
        "  l = str1.split()\n",
        "  for i in range(0,len(l)):\n",
        "    l[i] = int(l[i])    \n",
        "  return l"
      ]
    },
    {
      "cell_type": "code",
      "source": [
        "#Rotate elements by K positions\n",
        "def Rotate_by_K(L,K):\n",
        "  ret = list()\n",
        "  K_eff = K%len(L);\n",
        "  ret = L[:K_eff]\n",
        "  ret+= L[K_eff:]\n",
        "  return ret"
      ],
      "metadata": {
        "id": "grCPF_5ann2M"
      },
      "execution_count": null,
      "outputs": []
    },
    {
      "cell_type": "code",
      "source": [
        "#Convert the list into a tuple using list comprehension\n",
        "def conv_to_tuple(l):\n",
        "  l2 = tuple(i for i in l )\n",
        "  print(l2)\n",
        "  print(type(l2))\n",
        "  return l2"
      ],
      "metadata": {
        "id": "TYQeSA-7WnLg"
      },
      "execution_count": null,
      "outputs": []
    },
    {
      "cell_type": "code",
      "source": [
        "#Create another list by putting the results of the evaluation of the \n",
        "#function 𝑓(𝑥) = 𝑥 2 – 𝑥 with each element in the final list\n",
        "def SqFn(L):\n",
        "  Lt = [x for x in L]\n",
        "  Lret = [0 for y in L]\n",
        "  for i in range(0,len(Lt)):\n",
        "    xt = ((Lt[i])**2) - Lt[i]\n",
        "    Lret[i] = xt\n",
        "  return Lret"
      ],
      "metadata": {
        "id": "nKd1FFyLZSLK"
      },
      "execution_count": null,
      "outputs": []
    },
    {
      "cell_type": "code",
      "source": [
        "#After sorting them individually merge the two lists to create a single sorted list\n",
        "def sort_and_merge(L1,L2):\n",
        "  L1.sort()\n",
        "  L2.sort()\n",
        "  L3 = L1 + L2\n",
        "  L3.sort()\n",
        "  return L3"
      ],
      "metadata": {
        "id": "0s9eIa2db0XL"
      },
      "execution_count": null,
      "outputs": []
    },
    {
      "cell_type": "code",
      "source": [
        "#Main Function\n",
        "\n",
        "In_Str = input(\"Enter Numbers Seperated by a Space : \")\n",
        "Int_List = conv_to_list(In_Str)\n",
        "print(Int_List)\n",
        "k = int(input(\"Enter value to rotate the list : \"))\n",
        "Rot_List=Rotate_by_K(Int_List,k)\n",
        "print(\"List Rotated By \",k,\"is : \")\n",
        "print(Rot_List)\n",
        "Tup_convrt = conv_to_tuple(Int_List)\n",
        "print(Tup_convrt)\n",
        "Sq_list = SqFn(Int_List)\n",
        "print(Sq_list)\n",
        "Sort_list = sort_and_merge(Int_List,Sq_list)\n",
        "print(Sort_list)\n",
        "\n"
      ],
      "metadata": {
        "colab": {
          "base_uri": "https://localhost:8080/"
        },
        "id": "unpSRVXee4W-",
        "outputId": "90818955-c60d-4bbf-e213-ec9fe0f950f9"
      },
      "execution_count": null,
      "outputs": [
        {
          "output_type": "stream",
          "name": "stdout",
          "text": [
            "Enter Numbers Seperated by a Space : 1 2 3 4 1\n",
            "[1, 2, 3, 4, 1]\n",
            "Enter value to rotate the list : 2\n",
            "List Rotated By  2 is : \n",
            "[1, 2, 3, 4, 1]\n",
            "(1, 2, 3, 4, 1)\n",
            "<class 'tuple'>\n",
            "(1, 2, 3, 4, 1)\n",
            "[0, 2, 6, 12, 0]\n",
            "[0, 0, 1, 1, 2, 2, 3, 4, 6, 12]\n"
          ]
        }
      ]
    }
  ]
}