{
  "nbformat": 4,
  "nbformat_minor": 0,
  "metadata": {
    "colab": {
      "name": "Sequential Problems.ipynb",
      "provenance": []
    },
    "kernelspec": {
      "name": "python3",
      "display_name": "Python 3"
    },
    "language_info": {
      "name": "python"
    }
  },
  "cells": [
    {
      "cell_type": "markdown",
      "source": [
        "# **Sequential Problems**"
      ],
      "metadata": {
        "id": "mDfub0GyK5zb"
      }
    },
    {
      "cell_type": "markdown",
      "source": [
        "1. Program to print the Average of Three Numbers.\n",
        "\n",
        "---\n",
        "\n"
      ],
      "metadata": {
        "id": "0bw1pwdoLCCP"
      }
    },
    {
      "cell_type": "code",
      "execution_count": null,
      "metadata": {
        "colab": {
          "base_uri": "https://localhost:8080/"
        },
        "id": "xW-VaJKpK4x1",
        "outputId": "89725bc4-a76e-4494-fcd6-cc3a3db9ab0c"
      },
      "outputs": [
        {
          "output_type": "stream",
          "name": "stdout",
          "text": [
            "Enter number 1 : 10\n",
            "Enter number 2 : 23\n",
            "Enter number 3 : 13\n",
            "15.333333333333334\n"
          ]
        }
      ],
      "source": [
        "a = int(input(\"Enter number 1 : \"))\n",
        "b = int(input(\"Enter number 2 : \"))\n",
        "c = int(input(\"Enter number 3 : \"))\n",
        "\n",
        "avg =( a + b + c ) /3\n",
        "\n",
        "print(avg)"
      ]
    },
    {
      "cell_type": "markdown",
      "source": [
        "2. Program to print the Sum and Average of Three Numbers\n",
        "\n",
        "---\n",
        "\n"
      ],
      "metadata": {
        "id": "e0dzZCrRLtcM"
      }
    },
    {
      "cell_type": "code",
      "source": [
        "5a = int(input(\"Enter number 1 : \"))\n",
        "b = int(input(\"Enter number 2 : \"))\n",
        "c = int(input(\"Enter number 3 : \"))\n",
        "\n",
        "sum = a + b + c \n",
        "avg = sum / 3\n",
        "\n",
        "print(\"sum = \"  , sum )\n",
        "print(\"avg = \" , avg)\n"
      ],
      "metadata": {
        "colab": {
          "base_uri": "https://localhost:8080/"
        },
        "id": "NVQybQ8NL1nh",
        "outputId": "6b235c0f-5a64-411c-bc89-02e6c2d6eaae"
      },
      "execution_count": 17,
      "outputs": [
        {
          "output_type": "stream",
          "name": "stdout",
          "text": [
            "Enter number 1 : 4\n",
            "Enter number 2 : 5\n",
            "Enter number 3 : 5\n",
            "sum =  14\n",
            "avg =  4.666666666666667\n"
          ]
        }
      ]
    },
    {
      "cell_type": "markdown",
      "source": [
        "3. Program to Convert the Time entered in Seconds to Hours,Minutes,Seconds\n",
        "\n",
        "---\n",
        "\n"
      ],
      "metadata": {
        "id": "i61HQqIAMXJ0"
      }
    },
    {
      "cell_type": "code",
      "source": [
        "s = int(input(\"Enter the time in seconds : \"))\n",
        "hours =s//3600\n",
        "m = s % 3600\n",
        "minutes = m // 60\n",
        "seconds = s % 60\n",
        "print(s, \" seconds is :\")\n",
        "print(hours , \" hours \" , minutes , \" minutes \" , seconds , \" seconds\"  )\n"
      ],
      "metadata": {
        "id": "t0brOMOIMfeF",
        "colab": {
          "base_uri": "https://localhost:8080/"
        },
        "outputId": "6ae1344d-134b-402a-aa96-984c40f9eef1"
      },
      "execution_count": 15,
      "outputs": [
        {
          "output_type": "stream",
          "name": "stdout",
          "text": [
            "Enter the time in seconds : 3761\n",
            "3761  seconds is :\n",
            "1  hours  2  minutes  41  seconds\n"
          ]
        }
      ]
    },
    {
      "cell_type": "markdown",
      "source": [
        "4. **Program to calculate the area and perimeter of a triangle**\n",
        "\n",
        "---\n",
        "\n"
      ],
      "metadata": {
        "id": "ZqPSSg8FQ2fb"
      }
    },
    {
      "cell_type": "code",
      "source": [
        "a = float(input(\"Enter side 1 : \"))\n",
        "b = float(input(\"Enter side 2 : \"))\n",
        "c = float(input(\"Enter side 3 : \"))\n",
        "\n",
        "s = (a + b + c) / 2 \n",
        "a = ( (s*(s - a) * (s - b) * (s - c)) ** (0.5) ) \n",
        "p = s*2\n",
        "\n",
        "print(\"Area is \" , a)\n",
        "print(\"Perimeter is \" , p2)"
      ],
      "metadata": {
        "colab": {
          "base_uri": "https://localhost:8080/"
        },
        "id": "WufpHFDhNQtZ",
        "outputId": "b7646a7e-1099-4d82-d45a-6667b074e67c"
      },
      "execution_count": 16,
      "outputs": [
        {
          "output_type": "stream",
          "name": "stdout",
          "text": [
            "Enter side 1 : 3\n",
            "Enter side 2 : 4\n",
            "Enter side 3 : 5\n",
            "Area is  6.0\n",
            "Perimeter is  12.0\n"
          ]
        }
      ]
    },
    {
      "cell_type": "markdown",
      "source": [
        "5. **Program to find area of a circle**\n",
        "\n",
        "---\n"
      ],
      "metadata": {
        "id": "Nr-W3eSPRShE"
      }
    },
    {
      "cell_type": "code",
      "source": [
        "r = int(input(\"Enter the radius : \"))\n",
        "\n",
        "a = 3.14 * r * r\n",
        "\n",
        "print(\"Area of the circle is : \" , a )\n",
        "\n"
      ],
      "metadata": {
        "colab": {
          "base_uri": "https://localhost:8080/"
        },
        "id": "gPh6R7KxRscu",
        "outputId": "d627c265-2091-4307-ed99-a3d41d60480d"
      },
      "execution_count": 18,
      "outputs": [
        {
          "output_type": "stream",
          "name": "stdout",
          "text": [
            "Enter the radius : 7\n",
            "Area of the circle is :  153.86\n"
          ]
        }
      ]
    },
    {
      "cell_type": "markdown",
      "source": [
        "6. Program to enter two unequal number and interchange them without using a third variable\n",
        "\n",
        "---\n",
        "\n"
      ],
      "metadata": {
        "id": "2EraLEzESI7H"
      }
    },
    {
      "cell_type": "code",
      "source": [
        "x = int(input(\"Enter a number : \"))\n",
        "y = int(input(\"Enter a number : \"))\n",
        "\n",
        "print (\"Initial : x = \" , x , \", y = \" , y)\n",
        "\n",
        "x = x + y\n",
        "y = x - y\n",
        "x = x - y\n",
        "\n",
        "print (\"Final : x = \" , x , \", y = \" , y)\n"
      ],
      "metadata": {
        "colab": {
          "base_uri": "https://localhost:8080/"
        },
        "id": "Ck5FBfSoSUAv",
        "outputId": "9bf356c5-d2d1-4fc8-fd5c-70d8209feab8"
      },
      "execution_count": 20,
      "outputs": [
        {
          "output_type": "stream",
          "name": "stdout",
          "text": [
            "Enter a number : 13\n",
            "Enter a number : 14\n",
            "Initial : x =  13 , y =  14\n",
            "Final : x =  14 , y =  13\n"
          ]
        }
      ]
    },
    {
      "cell_type": "markdown",
      "source": [
        "7. Program to display sum, difference, product,quotient and remainder of two unequal numbers\n",
        "\n",
        "---\n",
        "\n"
      ],
      "metadata": {
        "id": "yoUMzRDhTLvT"
      }
    },
    {
      "cell_type": "code",
      "source": [
        "x = int(input(\"Enter a number : \"))\n",
        "y = int(input(\"Enter a number : \"))\n",
        "\n",
        "sum = x + y\n",
        "difference = x - y\n",
        "product = x * y\n",
        "quotient = x // y\n",
        "remainder = x % y\n",
        "\n",
        "print(\"Sum = \" , sum)\n",
        "print(\"Difference = \",difference )\n",
        "print(\"Product = \" , product)\n",
        "print(\"Quotient = \" ,quotient)\n",
        "print(\"Remainder = \",remainder)"
      ],
      "metadata": {
        "colab": {
          "base_uri": "https://localhost:8080/"
        },
        "id": "tSlH0LE9TTSh",
        "outputId": "ac345aa1-0f2e-4fc6-c3ab-33bbc08dc06a"
      },
      "execution_count": 22,
      "outputs": [
        {
          "output_type": "stream",
          "name": "stdout",
          "text": [
            "Enter a number : 10\n",
            "Enter a number : 13\n",
            "Sum =  23\n",
            "Difference =  -3\n",
            "Product =  130\n",
            "Quotient =  0\n",
            "Remainder =  10\n"
          ]
        }
      ]
    },
    {
      "cell_type": "markdown",
      "source": [
        "8. Program to enter the number of days and display into years, months and days.\n",
        "\n",
        "---\n",
        "\n"
      ],
      "metadata": {
        "id": "ZpcUtat0Udpr"
      }
    },
    {
      "cell_type": "code",
      "source": [
        "d = int(input(\"Enter the number of days : \"))\n",
        "\n",
        "years = d // 365\n",
        "m = d % 365\n",
        "month = m // 30\n",
        "days = m % 30\n",
        "\n",
        "print(d, \" days is :\")\n",
        "print(years , \" years \" , month , \" months \" , days , \" days\"  )"
      ],
      "metadata": {
        "colab": {
          "base_uri": "https://localhost:8080/"
        },
        "id": "wA1aom56Un34",
        "outputId": "4d98e731-6bd8-4d2b-830c-41352c25308e"
      },
      "execution_count": 27,
      "outputs": [
        {
          "output_type": "stream",
          "name": "stdout",
          "text": [
            "Enter the number of days : 1002\n",
            "1002  days is :\n",
            "2  years  9  months  2  days\n"
          ]
        }
      ]
    }
  ]
}