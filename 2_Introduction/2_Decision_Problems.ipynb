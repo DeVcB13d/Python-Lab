{
  "nbformat": 4,
  "nbformat_minor": 0,
  "metadata": {
    "colab": {
      "name": "Decision Problems.ipynb",
      "provenance": [],
      "collapsed_sections": [],
      "authorship_tag": "ABX9TyNYD4xlYhhx2FVzV8c6ngI6",
      "include_colab_link": true
    },
    "kernelspec": {
      "name": "python3",
      "display_name": "Python 3"
    },
    "language_info": {
      "name": "python"
    }
  },
  "cells": [
    {
      "cell_type": "markdown",
      "metadata": {
        "id": "view-in-github",
        "colab_type": "text"
      },
      "source": [
        "<a href=\"https://colab.research.google.com/github/DeVcB13d/Python-Lab/blob/main/Decision_Problems.ipynb\" target=\"_parent\"><img src=\"https://colab.research.google.com/assets/colab-badge.svg\" alt=\"Open In Colab\"/></a>"
      ]
    },
    {
      "cell_type": "markdown",
      "source": [
        "# Decision Problems\n"
      ],
      "metadata": {
        "id": "5l06YaV7zq6p"
      }
    },
    {
      "cell_type": "markdown",
      "source": [
        "1. Program to find the largest of two numbers"
      ],
      "metadata": {
        "id": "TdvWUSJ3z0jJ"
      }
    },
    {
      "cell_type": "code",
      "execution_count": null,
      "metadata": {
        "colab": {
          "base_uri": "https://localhost:8080/"
        },
        "id": "AC4tGuM_xwq6",
        "outputId": "4bbadb19-9e37-4469-8660-21ef723097be"
      },
      "outputs": [
        {
          "output_type": "stream",
          "name": "stdout",
          "text": [
            "Enter number A :4\n",
            "Enter number B :3\n",
            "4 > 3\n"
          ]
        }
      ],
      "source": [
        "a = int(input(\"Enter number A :\"))\n",
        "b = int(input(\"Enter number B :\"))\n",
        "if a > b :\n",
        "  print(a,\">\",b)\n",
        "elif a < b :\n",
        "  print(b,\">\",a)\n",
        "else:\n",
        "  print(a,\"=\",b)"
      ]
    },
    {
      "cell_type": "markdown",
      "source": [
        "\n",
        "<style type=\"text/css\">\n",
        ".tg  {border-collapse:collapse;border-color:#9ABAD9;border-spacing:0;}\n",
        ".tg td{background-color:#EBF5FF;border-color:#9ABAD9;border-style:solid;border-width:1px;color:#444;\n",
        "  font-family:Arial, sans-serif;font-size:14px;overflow:hidden;padding:10px 5px;word-break:normal;}\n",
        ".tg th{background-color:#409cff;border-color:#9ABAD9;border-style:solid;border-width:1px;color:#fff;\n",
        "  font-family:Arial, sans-serif;font-size:14px;font-weight:normal;overflow:hidden;padding:10px 5px;word-break:normal;}\n",
        ".tg .tg-hmp3{background-color:#D2E4FC;text-align:left;vertical-align:top}\n",
        ".tg .tg-0lax{text-align:left;vertical-align:top}\n",
        "</style>\n",
        "<table class=\"tg\">\n",
        "<thead>\n",
        "  <tr>\n",
        "    <th class=\"tg-0lax\">No:</th>\n",
        "    <th class=\"tg-0lax\">Input Values</th>\n",
        "    <th class=\"tg-0lax\">Expected outcome</th>\n",
        "    <th class=\"tg-0lax\">Actual outcome</th>\n",
        "    <th class=\"tg-0lax\">Pass/Fail</th>\n",
        "  </tr>\n",
        "</thead>\n",
        "<tbody>\n",
        "  <tr>\n",
        "    <td class=\"tg-hmp3\">1</td>\n",
        "    <td class=\"tg-hmp3\">a = 1 , b =2</td>\n",
        "    <td class=\"tg-hmp3\">2</td>\n",
        "    <td class=\"tg-hmp3\">2</td>\n",
        "    <td class=\"tg-hmp3\">Pass</td>\n",
        "  </tr>\n",
        "  <tr>\n",
        "    <td class=\"tg-0lax\">2</td>\n",
        "    <td class=\"tg-0lax\">a = 4,b = 2</td>\n",
        "    <td class=\"tg-0lax\">4</td>\n",
        "    <td class=\"tg-0lax\">4</td>\n",
        "    <td class=\"tg-0lax\">Pass</td>\n",
        "  </tr>\n",
        "  <tr>\n",
        "    <td class=\"tg-hmp3\">3</td>\n",
        "    <td class=\"tg-hmp3\">a = 1 , b = 1</td>\n",
        "    <td class=\"tg-hmp3\">equal</td>\n",
        "    <td class=\"tg-hmp3\">equal</td>\n",
        "    <td class=\"tg-hmp3\">Pass</td>\n",
        "  </tr>\n",
        "</tbody>\n",
        "</table>\n",
        "\n",
        "\n"
      ],
      "metadata": {
        "id": "G5w9gppKIQi0"
      }
    },
    {
      "cell_type": "markdown",
      "source": [
        "2. Program to find the smallest of 3 numbers"
      ],
      "metadata": {
        "id": "raehyl2Z0lNs"
      }
    },
    {
      "cell_type": "code",
      "source": [
        "a = int(input(\"Enter number 1 :\"))\n",
        "b = int(input(\"Enter number 2 :\"))\n",
        "c = int(input(\"Enter number 3 :\"))\n",
        "if a < b and a < c :\n",
        "  print(a,\" is the smallest\")\n",
        "elif b < a and b < c :\n",
        "  print(b,\" is the smallest\")\n",
        "elif c < a and c < b :\n",
        "  print(c,\" is the smallest\")\n",
        "else:\n",
        "  print(\"All are equal\")"
      ],
      "metadata": {
        "id": "OBwZVPQs0pCZ",
        "colab": {
          "base_uri": "https://localhost:8080/"
        },
        "outputId": "5c2bc60b-6a82-4a5f-e5c2-f80fcf732a72"
      },
      "execution_count": null,
      "outputs": [
        {
          "output_type": "stream",
          "name": "stdout",
          "text": [
            "Enter number 1 :0\n",
            "Enter number 2 :0\n",
            "Enter number 3 :40\n",
            "All are equal\n"
          ]
        }
      ]
    },
    {
      "cell_type": "markdown",
      "source": [
        "**Test Cases**\n",
        "<table style=\"width: 539px; height: 194px; border-color: Black;\">\n",
        "<tbody>\n",
        "<tr style=\"height: 23px;\">\n",
        "<td style=\"height: 23px; width: 46.325px;\">&nbsp;No:</td>\n",
        "<td style=\"height: 23px; width: 211.337px;\">&nbsp;Input Values</td>\n",
        "<td style=\"height: 23px; width: 92.7px;\">\n",
        "<p>Expected outcome&nbsp;</p>\n",
        "</td>\n",
        "<td style=\"height: 23px; width: 90.4375px;\">&nbsp;Actual Outcome</td>\n",
        "<td style=\"height: 23px; width: 97.2px;\">&nbsp;Pass/Fail</td>\n",
        "</tr>\n",
        "<tr style=\"height: 23px;\">\n",
        "<td style=\"height: 23px; width: 46.325px;\">&nbsp;1</td>\n",
        "<td style=\"height: 23px; width: 211.337px;\">&nbsp;a = 2 , b=4, c = 5</td>\n",
        "<td style=\"height: 23px; width: 92.7px;\">&nbsp;2 is the smallest</td>\n",
        "<td style=\"height: 23px; width: 90.4375px;\">&nbsp;2 is the smallest</td>\n",
        "<td style=\"height: 23px; width: 97.2px;\">&nbsp;Pass</td>\n",
        "</tr>\n",
        "<tr style=\"height: 23.5px;\">\n",
        "<td style=\"height: 23.5px; width: 46.325px;\">&nbsp;2</td>\n",
        "<td style=\"height: 23.5px; width: 211.337px;\">&nbsp;a = 7 , b = 9 , c = 0</td>\n",
        "<td style=\"height: 23.5px; width: 92.7px;\">&nbsp;0 is the smallest</td>\n",
        "<td style=\"height: 23.5px; width: 90.4375px;\">&nbsp;0 is the smallest</td>\n",
        "<td style=\"height: 23.5px; width: 97.2px;\">&nbsp;Pass</td>\n",
        "</tr>\n",
        "<tr style=\"height: 23px;\">\n",
        "<td style=\"height: 23px; width: 46.325px;\">&nbsp;3</td>\n",
        "<td style=\"height: 23px; width: 211.337px;\">&nbsp;a = 2 , b= 2 ,c =40</td>\n",
        "<td style=\"height: 23px; width: 92.7px;\">&nbsp;2 is the smallest</td>\n",
        "<td style=\"height: 23px; width: 90.4375px;\">&nbsp;All are equal</td>\n",
        "<td style=\"height: 23px; width: 97.2px;\">&nbsp;Fail</td>\n",
        "</tr>\n",
        "<tr style=\"height: 23px;\">\n",
        "<td style=\"height: 23px; width: 46.325px;\">&nbsp;4</td>\n",
        "<td style=\"height: 23px; width: 211.337px;\">&nbsp;a = 1, b = 1 , c =1</td>\n",
        "<td style=\"height: 23px; width: 92.7px;\">&nbsp;All are equal</td>\n",
        "<td style=\"height: 23px; width: 90.4375px;\">&nbsp;All are equal</td>\n",
        "<td style=\"height: 23px; width: 97.2px;\">&nbsp;Pass</td>\n",
        "</tr>\n",
        "</tbody>\n",
        "</table>\n",
        "<!-- DivTable.com -->"
      ],
      "metadata": {
        "id": "3aDxoRqnXXXc"
      }
    },
    {
      "cell_type": "markdown",
      "source": [
        "3. Program to find distance between two points on a number line\n",
        "\n"
      ],
      "metadata": {
        "id": "VolkPX9j1XB5"
      }
    },
    {
      "cell_type": "code",
      "source": [
        "x1 = int(input(\"Enter the 1st coordinate: \"))\n",
        "x2 = int(input(\"Enter the 2nd coordinate: \"))\n",
        "if x1 > x2 :\n",
        "  print(\"Distance = \",x1-x2)\n",
        "else:\n",
        "  print(\"Distance = \",x2-x1)"
      ],
      "metadata": {
        "colab": {
          "base_uri": "https://localhost:8080/"
        },
        "id": "wdc6gPtP0zOB",
        "outputId": "3482fc16-4035-4537-ea47-2a87c9be1acf"
      },
      "execution_count": null,
      "outputs": [
        {
          "output_type": "stream",
          "name": "stdout",
          "text": [
            "Enter the 1st coordinate: -2\n",
            "Enter the 2nd coordinate: 3\n",
            "Distance =  5\n"
          ]
        }
      ]
    },
    {
      "cell_type": "markdown",
      "source": [
        "**Test cases**\n",
        "<table style=\"width: 539px; height: 194px; border-color: Black;\">\n",
        "<tbody>\n",
        "<tr style=\"height: 23px;\">\n",
        "<td style=\"height: 23px; width: 46.325px;\">&nbsp;No:</td>\n",
        "<td style=\"height: 23px; width: 211.337px;\">&nbsp;Input Values</td>\n",
        "<td style=\"height: 23px; width: 92.7px;\">\n",
        "<p>Expected outcome&nbsp;</p>\n",
        "</td>\n",
        "<td style=\"height: 23px; width: 90.4375px;\">&nbsp;Actual Outcome</td>\n",
        "<td style=\"height: 23px; width: 97.2px;\">&nbsp;Pass/Fail</td>\n",
        "</tr>\n",
        "<tr style=\"height: 23px;\">\n",
        "<td style=\"height: 23px; width: 46.325px;\">&nbsp;1</td>\n",
        "<td style=\"height: 23px; width: 211.337px;\">&nbsp;x1 = 3, x2 = 2</td>\n",
        "<td style=\"height: 23px; width: 92.7px;\">Distance = 1</td>\n",
        "<td style=\"height: 23px; width: 90.4375px;\">Distance = 1</td>\n",
        "<td style=\"height: 23px; width: 97.2px;\">&nbsp;Pass</td>\n",
        "</tr>\n",
        "<tr style=\"height: 23.5px;\">\n",
        "<td style=\"height: 23.5px; width: 46.325px;\">&nbsp;2</td>\n",
        "<td style=\"height: 23.5px; width: 211.337px;\">x1 = 2, x2 = 3</td>\n",
        "<td style=\"height: 23.5px; width: 92.7px;\">Distance = 1</td>\n",
        "<td style=\"height: 23.5px; width: 90.4375px;\">Distance = 1</td>\n",
        "<td style=\"height: 23.5px; width: 97.2px;\">&nbsp;Pass</td>\n",
        "</tr>\n",
        "<tr style=\"height: 23px;\">\n",
        "<td style=\"height: 23px; width: 46.325px;\">&nbsp;3</td>\n",
        "<td style=\"height: 23px; width: 211.337px;\">x1 = -2, x2 = 3</td>\n",
        "<td style=\"height: 23px; width: 92.7px;\">Distance = 5</td>\n",
        "<td style=\"height: 23px; width: 90.4375px;\">Distance = 5</td>\n",
        "<td style=\"height: 23px; width: 97.2px;\">Pass</td>\n",
        "</tr>\n",
        "</tbody>\n",
        "</table>\n",
        "<!-- DivTable.com -->"
      ],
      "metadata": {
        "id": "dsh5vSn7YSU9"
      }
    },
    {
      "cell_type": "markdown",
      "source": [
        "4. Program to check whether the input number is a 2 digit number\n",
        "or not"
      ],
      "metadata": {
        "id": "UJSszsD62Q7Q"
      }
    },
    {
      "cell_type": "code",
      "source": [
        "a = int(input(\"Enter a number: \"))\n",
        "if a >= 10 and a <= 99 :\n",
        "  print(a,\" is 2 digit\")\n",
        "else:\n",
        "  print(a,\" is not 2 digit\")"
      ],
      "metadata": {
        "colab": {
          "base_uri": "https://localhost:8080/"
        },
        "id": "xeq-CaNj2Usn",
        "outputId": "00b706d1-700d-426e-a1be-f39a40e08c85"
      },
      "execution_count": null,
      "outputs": [
        {
          "output_type": "stream",
          "name": "stdout",
          "text": [
            "Enter a number: 999\n",
            "999  is not 2 digit\n"
          ]
        }
      ]
    },
    {
      "cell_type": "markdown",
      "source": [
        "**Test cases**\n",
        "<table style=\"width: 539px; height: 194px; border-color: Black;\">\n",
        "<tbody>\n",
        "<tr style=\"height: 23px;\">\n",
        "<td style=\"height: 23px; width: 46px;\">&nbsp;No:</td>\n",
        "<td style=\"height: 23px; width: 169px;\">&nbsp;Input Values</td>\n",
        "<td style=\"height: 23px; width: 111.938px;\">\n",
        "<p>Expected outcome&nbsp;</p>\n",
        "</td>\n",
        "<td style=\"height: 23px; width: 108.062px;\">&nbsp;Actual Outcome</td>\n",
        "<td style=\"height: 23px; width: 97px;\">&nbsp;Pass/Fail</td>\n",
        "</tr>\n",
        "<tr style=\"height: 23px;\">\n",
        "<td style=\"height: 23px; width: 46px;\">&nbsp;1</td>\n",
        "<td style=\"height: 23px; width: 169px;\">a = 1</td>\n",
        "<td style=\"height: 23px; width: 111.938px;\">1 is not 2 digit</td>\n",
        "<td style=\"height: 23px; width: 108.062px;\">1 is not 2 digit</td>\n",
        "<td style=\"height: 23px; width: 97px;\">&nbsp;Pass</td>\n",
        "</tr>\n",
        "<tr style=\"height: 23.5px;\">\n",
        "<td style=\"height: 23.5px; width: 46px;\">&nbsp;2</td>\n",
        "<td style=\"height: 23.5px; width: 169px;\">a = 99</td>\n",
        "<td style=\"height: 23.5px; width: 111.938px;\">99 is 2 digit</td>\n",
        "<td style=\"height: 23.5px; width: 108.062px;\">99 is 2 digit</td>\n",
        "<td style=\"height: 23.5px; width: 97px;\">&nbsp;Pass</td>\n",
        "</tr>\n",
        "<tr style=\"height: 23px;\">\n",
        "<td style=\"height: 23px; width: 46px;\">&nbsp;3</td>\n",
        "<td style=\"height: 23px; width: 169px;\">a = 999</td>\n",
        "<td style=\"height: 23px; width: 111.938px;\">999 is not 2 digit</td>\n",
        "<td style=\"height: 23px; width: 108.062px;\">999 is not 2 digit</td>\n",
        "<td style=\"height: 23px; width: 97px;\">Pass</td>\n",
        "</tr>\n",
        "</tbody>\n",
        "</table>\n",
        "<!-- DivTable.com -->"
      ],
      "metadata": {
        "id": "Ag5s7Us0Y3Hl"
      }
    },
    {
      "cell_type": "markdown",
      "source": [
        "5. Program to check whether a number is positive, negative or\n",
        "zero"
      ],
      "metadata": {
        "id": "O69Nwdhs209P"
      }
    },
    {
      "cell_type": "code",
      "source": [
        "a = int(input(\"Enter a number:\"))\n",
        "if a < 0 :\n",
        "  print(a,\" is negative\")\n",
        "elif a > 0:\n",
        "  print(a,\" is positive\")\n",
        "else:\n",
        "  print(a,\"is zero\")"
      ],
      "metadata": {
        "colab": {
          "base_uri": "https://localhost:8080/"
        },
        "id": "pKlwsp2925ed",
        "outputId": "5ce81c0b-3a06-4fc5-ec31-729abf7c6a4f"
      },
      "execution_count": 3,
      "outputs": [
        {
          "output_type": "stream",
          "name": "stdout",
          "text": [
            "Enter a number:0\n",
            "0 is zero\n"
          ]
        }
      ]
    },
    {
      "cell_type": "markdown",
      "source": [
        "6. Program to whether a number is a multiple of another"
      ],
      "metadata": {
        "id": "jLgtTM_S3aY-"
      }
    },
    {
      "cell_type": "code",
      "source": [
        "n = int(input(\"Enter number  :\"))\n",
        "m = int(input(\"Enter number  :\"))\n",
        "if n%m == 0:\n",
        "  print(n,\" is a multiple of \",m)\n",
        "else:\n",
        "  print(\"They are not multiples\")"
      ],
      "metadata": {
        "colab": {
          "base_uri": "https://localhost:8080/"
        },
        "id": "CfCM-U6n3Z9Q",
        "outputId": "a2ff98fe-8e97-4444-f770-720ec7f436fc"
      },
      "execution_count": null,
      "outputs": [
        {
          "output_type": "stream",
          "name": "stdout",
          "text": [
            "Enter number  :6\n",
            "Enter number  :3\n",
            "6  is a multiple of  3\n"
          ]
        }
      ]
    },
    {
      "cell_type": "markdown",
      "source": [
        "**Test Cases**\n",
        "<table style=\"width: 539px; height: 194px; border-color: Black;\">\n",
        "<tbody>\n",
        "<tr style=\"height: 23px;\">\n",
        "<td style=\"height: 23px; width: 46px;\">&nbsp;No:</td>\n",
        "<td style=\"height: 23px; width: 170.663px;\">&nbsp;Input Values</td>\n",
        "<td style=\"height: 23px; width: 107.337px;\">\n",
        "<p>Expected outcome&nbsp;</p>\n",
        "</td>\n",
        "<td style=\"height: 23px; width: 108px;\">&nbsp;Actual Outcome</td>\n",
        "<td style=\"height: 23px; width: 97px;\">&nbsp;Pass/Fail</td>\n",
        "</tr>\n",
        "<tr style=\"height: 23px;\">\n",
        "<td style=\"height: 23px; width: 46px;\">&nbsp;1</td>\n",
        "<td style=\"height: 23px; width: 170.663px;\">a = 5</td>\n",
        "<td style=\"height: 23px; width: 107.337px;\">5 is positive</td>\n",
        "<td style=\"height: 23px; width: 108px;\">5 is positive</td>\n",
        "<td style=\"height: 23px; width: 97px;\">&nbsp;Pass</td>\n",
        "</tr>\n",
        "<tr style=\"height: 23.5px;\">\n",
        "<td style=\"height: 23.5px; width: 46px;\">&nbsp;2</td>\n",
        "<td style=\"height: 23.5px; width: 170.663px;\">a = -10</td>\n",
        "<td style=\"height: 23.5px; width: 107.337px;\">-10 is negative</td>\n",
        "<td style=\"height: 23.5px; width: 108px;\">-10 is negative</td>\n",
        "<td style=\"height: 23.5px; width: 97px;\">&nbsp;Pass</td>\n",
        "</tr>\n",
        "<tr style=\"height: 23px;\">\n",
        "<td style=\"height: 23px; width: 46px;\">&nbsp;3</td>\n",
        "<td style=\"height: 23px; width: 170.663px;\">a = 0</td>\n",
        "<td style=\"height: 23px; width: 107.337px;\">0 is zero</td>\n",
        "<td style=\"height: 23px; width: 108px;\">0 is zero</td>\n",
        "<td style=\"height: 23px; width: 97px;\">Pass</td>\n",
        "</tr>\n",
        "</tbody>\n",
        "</table>"
      ],
      "metadata": {
        "id": "kHrTFqNhuJO1"
      }
    },
    {
      "cell_type": "markdown",
      "source": [
        "7 Program to find the smallest digit in a 2-digit number"
      ],
      "metadata": {
        "id": "Q8LMUfaZ4Gfm"
      }
    },
    {
      "cell_type": "code",
      "source": [
        "d = int(input(\"Enter a 2 digit number\"))\n",
        "d1 = d%10\n",
        "d2 = d//10\n",
        "if d1 > d2 :\n",
        "  print(d2,\"is the smallest digit in \",d)\n",
        "elif d1 < d2 :\n",
        "  print(d1,\"is the smallest digit in \",d)\n",
        "else:\n",
        "  print(\"Equal digits\")"
      ],
      "metadata": {
        "colab": {
          "base_uri": "https://localhost:8080/"
        },
        "id": "CVZwoSQb3s6H",
        "outputId": "422a1aad-d0a0-446a-fdfd-8f3736093e21"
      },
      "execution_count": 7,
      "outputs": [
        {
          "output_type": "stream",
          "name": "stdout",
          "text": [
            "Enter a 2 digit number78\n",
            "7 is the smallest digit in  78\n"
          ]
        }
      ]
    },
    {
      "cell_type": "markdown",
      "source": [
        "**Test Cases**\n",
        "<table style=\"width: 596px; height: 194px; border-color: black;\">\n",
        "<tbody>\n",
        "<tr style=\"height: 23px;\">\n",
        "<td style=\"height: 23px; width: 46px;\">&nbsp;No:</td>\n",
        "<td style=\"height: 23px; width: 112px;\">&nbsp;Input Values</td>\n",
        "<td style=\"height: 23px; width: 147px;\">\n",
        "<p>Expected outcome&nbsp;</p>\n",
        "</td>\n",
        "<td style=\"height: 23px; width: 186.763px;\">&nbsp;Actual Outcome</td>\n",
        "<td style=\"height: 23px; width: 89.2375px;\">&nbsp;Pass/Fail</td>\n",
        "</tr>\n",
        "<tr style=\"height: 23px;\">\n",
        "<td style=\"height: 23px; width: 46px;\">&nbsp;1</td>\n",
        "<td style=\"height: 23px; width: 112px;\">d = 54</td>\n",
        "<td style=\"height: 23px; width: 147px;\">4 is the smallest digit</td>\n",
        "<td style=\"height: 23px; width: 186.763px;\">4 is the smallest digit</td>\n",
        "<td style=\"height: 23px; width: 89.2375px;\">&nbsp;Pass</td>\n",
        "</tr>\n",
        "<tr style=\"height: 23.5px;\">\n",
        "<td style=\"height: 23.5px; width: 46px;\">&nbsp;2</td>\n",
        "<td style=\"height: 23.5px; width: 112px;\">d = 46</td>\n",
        "<td style=\"height: 23.5px; width: 147px;\">4 is the smallest digit</td>\n",
        "<td style=\"height: 23.5px; width: 186.763px;\">4 is the smallest digit</td>\n",
        "<td style=\"height: 23.5px; width: 89.2375px;\">&nbsp;Pass</td>\n",
        "</tr>\n",
        "<tr style=\"height: 23px;\">\n",
        "<td style=\"height: 23px; width: 46px;\">&nbsp;3</td>\n",
        "<td style=\"height: 23px; width: 112px;\">d = 78</td>\n",
        "<td style=\"height: 23px; width: 147px;\">7 is the smallest digit</td>\n",
        "<td style=\"height: 23px; width: 186.763px;\">7 is the smallest digit</td>\n",
        "<td style=\"height: 23px; width: 89.2375px;\">Pass</td>\n",
        "</tr>\n",
        "</tbody>\n",
        "</table>"
      ],
      "metadata": {
        "id": "yHvCwcmyu3BK"
      }
    },
    {
      "cell_type": "markdown",
      "source": [
        "8 Program to find the nature of the solution of a quadratic equation"
      ],
      "metadata": {
        "id": "2JK1ZX704KkY"
      }
    },
    {
      "cell_type": "code",
      "source": [
        "a = int(input(\"Enter coefficient of x^2: \"))\n",
        "b = int(input(\"Enter coefficient of x: \"))\n",
        "c = int(input(\"Enter constant term: \"))\n",
        "det = (b**2) - (4*a*c)\n",
        "if det > 0 : \n",
        "  print(\"2 different solutions \")\n",
        "elif det < 0 :\n",
        "  print(\"Only imaginary solutions \")\n",
        "else:\n",
        "  print(\"2 equal solutions\")"
      ],
      "metadata": {
        "colab": {
          "base_uri": "https://localhost:8080/"
        },
        "id": "v0rqK9T84MZa",
        "outputId": "cd92e6cf-1841-4788-ab7e-f255cb42b243"
      },
      "execution_count": 14,
      "outputs": [
        {
          "output_type": "stream",
          "name": "stdout",
          "text": [
            "Enter coefficient of x^2: 4\n",
            "Enter coefficient of x: 0\n",
            "Enter constant term: 0\n",
            "2 equal solutions\n"
          ]
        }
      ]
    },
    {
      "cell_type": "markdown",
      "source": [
        "**Test Cases**\n",
        "<table style=\"width: 539px; height: 194px; border-color: Black;\">\n",
        "<tbody>\n",
        "<tr style=\"height: 23px;\">\n",
        "<td style=\"height: 23px; width: 46px;\">&nbsp;No:</td>\n",
        "<td style=\"height: 23px; width: 148px;\">&nbsp;Input Values</td>\n",
        "<td style=\"height: 23px; width: 148px;\">\n",
        "<p>Expected outcome&nbsp;</p>\n",
        "</td>\n",
        "<td style=\"height: 23px; width: 144px;\">&nbsp;Actual Outcome</td>\n",
        "<td style=\"height: 23px; width: 44px;\">&nbsp;Pass/Fail</td>\n",
        "</tr>\n",
        "<tr style=\"height: 23px;\">\n",
        "<td style=\"height: 23px; width: 46px;\">&nbsp;1</td>\n",
        "<td style=\"height: 23px; width: 148px;\">&nbsp;a = 1, b = 2, c = 1</td>\n",
        "<td style=\"height: 23px; width: 148px;\">2 equal solutions</td>\n",
        "<td style=\"height: 23px; width: 144px;\">2 equal solutions</td>\n",
        "<td style=\"height: 23px; width: 44px;\">&nbsp;Pass</td>\n",
        "</tr>\n",
        "<tr style=\"height: 23.5px;\">\n",
        "<td style=\"height: 23.5px; width: 46px;\">&nbsp;2</td>\n",
        "<td style=\"height: 23.5px; width: 148px;\">&nbsp;a = 1, b = -1, c = 1</td>\n",
        "<td style=\"height: 23.5px; width: 148px;\">imaginary solutions</td>\n",
        "<td style=\"height: 23.5px; width: 144px;\">imaginary solutions</td>\n",
        "<td style=\"height: 23.5px; width: 44px;\">&nbsp;Pass</td>\n",
        "</tr>\n",
        "<tr style=\"height: 23px;\">\n",
        "<td style=\"height: 23px; width: 46px;\">&nbsp;3</td>\n",
        "<td style=\"height: 23px; width: 148px;\">&nbsp;a = 1, b= 5, c =1</td>\n",
        "<td style=\"height: 23px; width: 148px;\">2 different solutions</td>\n",
        "<td style=\"height: 23px; width: 144px;\">2 different solutions</td>\n",
        "<td style=\"height: 23px; width: 44px;\">&nbsp;Pass</td>\n",
        "</tr>\n",
        "<tr style=\"height: 23px;\">\n",
        "<td style=\"height: 23px; width: 46px;\">&nbsp;4</td>\n",
        "<td style=\"height: 23px; width: 148px;\">&nbsp;a = 4, b = 0, c =0</td>\n",
        "<td style=\"height: 23px; width: 148px;\">2 equal solutions</td>\n",
        "<td style=\"height: 23px; width: 144px;\">2 equal solutions</td>\n",
        "<td style=\"height: 23px; width: 44px;\">&nbsp;Pass</td>\n",
        "</tr>\n",
        "</tbody>\n",
        "</table>"
      ],
      "metadata": {
        "id": "Srn6ALFXv9cC"
      }
    }
  ]
}