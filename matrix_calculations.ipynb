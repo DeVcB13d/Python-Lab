{
  "nbformat": 4,
  "nbformat_minor": 0,
  "metadata": {
    "colab": {
      "name": "matrix calculations.ipynb",
      "provenance": [],
      "authorship_tag": "ABX9TyNM1agQppaBegk24VXLYj85",
      "include_colab_link": true
    },
    "kernelspec": {
      "name": "python3",
      "display_name": "Python 3"
    },
    "language_info": {
      "name": "python"
    }
  },
  "cells": [
    {
      "cell_type": "markdown",
      "metadata": {
        "id": "view-in-github",
        "colab_type": "text"
      },
      "source": [
        "<a href=\"https://colab.research.google.com/github/DeVcB13d/Python-Lab/blob/main/matrix_calculations.ipynb\" target=\"_parent\"><img src=\"https://colab.research.google.com/assets/colab-badge.svg\" alt=\"Open In Colab\"/></a>"
      ]
    },
    {
      "cell_type": "markdown",
      "source": [
        "# **Algorithm for row reduction**"
      ],
      "metadata": {
        "id": "OTFLsKnw6bO9"
      }
    },
    {
      "cell_type": "code",
      "execution_count": 51,
      "metadata": {
        "id": "HLH-Y37S6ZYu"
      },
      "outputs": [],
      "source": [
        "def rowredn(grid):\n",
        "  matrix = grid \n",
        "  n = len(matrix) #Number of rows in the matrix\n",
        "  for i in range(1,n+1): #The initial row\n",
        "    i1 = matrix[i-1] #ith row\n",
        "    for j in range(i+1,n+1):#Rows below the initial row\n",
        "      j1 = matrix[j-1] #jth row\n",
        "      try:\n",
        "        factor = j1[i-1] / i1[i-1]\n",
        "      except:\n",
        "        factor = 0\n",
        "\n",
        "      for k in range(1,n+1): #access the column elements\n",
        "        j1[k-1] -= factor * i1[k-1]\n",
        "  return matrix\n",
        "\n",
        "\n"
      ]
    },
    {
      "cell_type": "code",
      "source": [
        "def display(grid):\n",
        "  for i in grid :\n",
        "    for j in i:\n",
        "      ff = float(j)\n",
        "      print(ff , end = \"   \")\n",
        "    print()\n",
        "  "
      ],
      "metadata": {
        "id": "dwICqj9DASJy"
      },
      "execution_count": 55,
      "outputs": []
    },
    {
      "cell_type": "code",
      "source": [
        "def det(grid):\n",
        "  k = rowredn(grid)\n",
        "  c = 0\n",
        "  det = 1\n",
        "  for i in k:\n",
        "    det *= i[c]\n",
        "    c = c + 1\n",
        "  return det\n",
        "    \n",
        "\n"
      ],
      "metadata": {
        "id": "aPVygFaZBBgW"
      },
      "execution_count": 41,
      "outputs": []
    },
    {
      "cell_type": "code",
      "source": [
        "l = [[3,3,3],[1,1,9],[5,4,6]]\n",
        "k = rowredn(l)\n",
        "d = det(k)\n",
        "display(k)\n",
        "print(\"Determinant is = \" , d)"
      ],
      "metadata": {
        "colab": {
          "base_uri": "https://localhost:8080/"
        },
        "id": "hNsl1luj-KCg",
        "outputId": "901d45a5-6073-49db-d5a7-42e1cac1088f"
      },
      "execution_count": 56,
      "outputs": [
        {
          "output_type": "stream",
          "name": "stdout",
          "text": [
            "3.0   3.0   3.0   \n",
            "0.0   0.0   8.0   \n",
            "0.0   -1.0   1.0   \n",
            "Determinant is =  0.0\n"
          ]
        }
      ]
    }
  ]
}