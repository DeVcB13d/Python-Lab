{
  "nbformat": 4,
  "nbformat_minor": 0,
  "metadata": {
    "colab": {
      "name": "Iterative / Looping Problems.ipynb",
      "provenance": [],
      "authorship_tag": "ABX9TyMSY7Hyd4R63PY2BAd0KWw7",
      "include_colab_link": true
    },
    "kernelspec": {
      "name": "python3",
      "display_name": "Python 3"
    },
    "language_info": {
      "name": "python"
    }
  },
  "cells": [
    {
      "cell_type": "markdown",
      "metadata": {
        "id": "view-in-github",
        "colab_type": "text"
      },
      "source": [
        "<a href=\"https://colab.research.google.com/github/DeVcB13d/Python-Lab/blob/main/Iterative_Looping_Problems.ipynb\" target=\"_parent\"><img src=\"https://colab.research.google.com/assets/colab-badge.svg\" alt=\"Open In Colab\"/></a>"
      ]
    },
    {
      "cell_type": "markdown",
      "source": [
        "# Iterative / Looping Problems"
      ],
      "metadata": {
        "id": "CmRJS3dfSsHv"
      }
    },
    {
      "cell_type": "markdown",
      "source": [
        "1. Program to find the reverse of a given number."
      ],
      "metadata": {
        "id": "sEQCrorRSzkG"
      }
    },
    {
      "cell_type": "code",
      "execution_count": null,
      "metadata": {
        "colab": {
          "base_uri": "https://localhost:8080/"
        },
        "id": "sPQtjH9ISn8U",
        "outputId": "1438c1ed-2aba-48d8-9c25-93c79a205c2e"
      },
      "outputs": [
        {
          "output_type": "stream",
          "name": "stdout",
          "text": [
            "Enter a number :23451\n",
            "23451  reversed =  15432\n"
          ]
        }
      ],
      "source": [
        "n = int(input(\"Enter a number :\"))\n",
        "N = n\n",
        "rev = 0 ;\n",
        "while N>0:\n",
        "  rem = N%10\n",
        "  N = N//10\n",
        "  rev = rev*10 + rem\n",
        "\n",
        "print(n,\" reversed = \",rev)"
      ]
    },
    {
      "cell_type": "markdown",
      "source": [
        "2. Program to find the sum of the first N natural numbers"
      ],
      "metadata": {
        "id": "k9PUAjYqTvjc"
      }
    },
    {
      "cell_type": "code",
      "source": [
        "N = int(input(\"Enter N :\"))\n",
        "sum = 0 \n",
        "for i in range(1,N+1):\n",
        "  sum+=i\n",
        "print(\"N =\",N,\"\\nsum = \",sum )"
      ],
      "metadata": {
        "colab": {
          "base_uri": "https://localhost:8080/"
        },
        "id": "IaNGmbAHUBeE",
        "outputId": "5d12a7f4-ea4d-4260-b6b4-71662935ac17"
      },
      "execution_count": null,
      "outputs": [
        {
          "output_type": "stream",
          "name": "stdout",
          "text": [
            "Enter N :12\n",
            "N = 12 \n",
            "sum =  78\n"
          ]
        }
      ]
    },
    {
      "cell_type": "markdown",
      "source": [
        "3. Program to print the sum of the factors of a number"
      ],
      "metadata": {
        "id": "_DaQLMqQUkuF"
      }
    },
    {
      "cell_type": "code",
      "source": [
        "N = int(input(\"Enter a number :\"))\n",
        "sf = 1 + N\n",
        "for i in range(2,(N//2)+1):\n",
        "  if N%i==0:\n",
        "    sf+=i\n",
        "print(sf)"
      ],
      "metadata": {
        "colab": {
          "base_uri": "https://localhost:8080/"
        },
        "id": "vFE-aWzZUrjE",
        "outputId": "f5acf52a-4c25-4857-81a7-ebd36e233f38"
      },
      "execution_count": null,
      "outputs": [
        {
          "output_type": "stream",
          "name": "stdout",
          "text": [
            "Enter a number :4\n",
            "7\n"
          ]
        }
      ]
    },
    {
      "cell_type": "markdown",
      "source": [
        "4. Program to print the N terms of an  arithmetic sequence"
      ],
      "metadata": {
        "id": "30S7eg9oVXjs"
      }
    },
    {
      "cell_type": "code",
      "source": [
        "a = int(input(\"Enter the first term: \"))\n",
        "d = int(input(\"Entet the common difference: \"))\n",
        "N = int(input(\"Enter total terms to print\"))\n",
        "for i in range(1,N):\n",
        "  print(a+(i-1)*d ,end = \",\")"
      ],
      "metadata": {
        "colab": {
          "base_uri": "https://localhost:8080/"
        },
        "id": "LDez6kteVccs",
        "outputId": "6175a5a4-2c76-4444-c0ba-5225531e19cf"
      },
      "execution_count": null,
      "outputs": [
        {
          "output_type": "stream",
          "name": "stdout",
          "text": [
            "Enter the first term: 3\n",
            "Entet the common difference: 4\n",
            "Enter total terms to print12\n",
            "3,7,11,15,19,23,27,31,35,39,43,"
          ]
        }
      ]
    },
    {
      "cell_type": "markdown",
      "source": [
        "5. Program to print the n terms of the Fibonacci series\n",
        "\n"
      ],
      "metadata": {
        "id": "UXDZCALgWfc5"
      }
    },
    {
      "cell_type": "code",
      "source": [
        "a = 0 \n",
        "b = 1\n",
        "N = int(input(\"Enter the number of terms: \"))\n",
        "for i in range(1,N+1):\n",
        "   print(a,end = \" \")\n",
        "   t = a \n",
        "   a = a+b\n",
        "   b = t"
      ],
      "metadata": {
        "colab": {
          "base_uri": "https://localhost:8080/"
        },
        "id": "GJ2aenuDWe-D",
        "outputId": "c75b9786-89de-4963-c2a9-b599771c135f"
      },
      "execution_count": null,
      "outputs": [
        {
          "output_type": "stream",
          "name": "stdout",
          "text": [
            "Enter the number of terms: 12\n",
            "0 1 1 2 3 5 8 13 21 34 55 89 "
          ]
        }
      ]
    },
    {
      "cell_type": "markdown",
      "source": [
        "6. Program to check whether a number is palindrome or not"
      ],
      "metadata": {
        "id": "Azhut3yQXlzD"
      }
    },
    {
      "cell_type": "code",
      "source": [
        "n = int(input(\"Enter a number :\"))\n",
        "N = n\n",
        "rev = 0 ;\n",
        "while N>0:\n",
        "  rem = N%10\n",
        "  N = N//10\n",
        "  rev = rev*10 + rem\n",
        "\n",
        "if rev == n :\n",
        "  print(n,\" palindrome\")\n",
        "else:\n",
        "  print(n,\"is not a palindrome\")"
      ],
      "metadata": {
        "colab": {
          "base_uri": "https://localhost:8080/"
        },
        "id": "-jFK0_9YXq2E",
        "outputId": "3dd26289-1cbc-4c37-88f8-d182e951e477"
      },
      "execution_count": null,
      "outputs": [
        {
          "output_type": "stream",
          "name": "stdout",
          "text": [
            "Enter a number :123\n",
            "123 is not a palindrome\n"
          ]
        }
      ]
    },
    {
      "cell_type": "markdown",
      "source": [
        "7. Program to check whether a number is Armstrong or not"
      ],
      "metadata": {
        "id": "ARmDANI9X-6M"
      }
    },
    {
      "cell_type": "code",
      "source": [
        "n = int(input(\"Enter a number :\"))\n",
        "N = n\n",
        "arms = 0 ;\n",
        "while N>0:\n",
        "  rem = N%10\n",
        "  N = N//10\n",
        "  arms = arms + rem**3\n",
        "if n == arms:\n",
        "  print(n,\" is armstrong\")\n",
        "else:\n",
        "  print(n,\"is not armstrong\")"
      ],
      "metadata": {
        "colab": {
          "base_uri": "https://localhost:8080/"
        },
        "id": "FmAInyxfX82C",
        "outputId": "230d7186-4315-43d3-c465-b5a453140405"
      },
      "execution_count": null,
      "outputs": [
        {
          "output_type": "stream",
          "name": "stdout",
          "text": [
            "Enter a number :234\n",
            "234 is not armstrong\n"
          ]
        }
      ]
    },
    {
      "cell_type": "markdown",
      "source": [
        "8. Program to evaluate x^n"
      ],
      "metadata": {
        "id": "w8ltaNgrYhuz"
      }
    },
    {
      "cell_type": "code",
      "source": [
        "x = int(input(\"Enter x : \"))\n",
        "n = int(input(\"Enter n : \"))\n",
        "p = 1 \n",
        "for i in range(0,n):\n",
        "  p*=x\n",
        "print(p)"
      ],
      "metadata": {
        "colab": {
          "base_uri": "https://localhost:8080/"
        },
        "id": "eGq8yVknYVIT",
        "outputId": "22081f4b-7229-49b3-eda7-1cf0b09a8bb8"
      },
      "execution_count": null,
      "outputs": [
        {
          "output_type": "stream",
          "name": "stdout",
          "text": [
            "Enter x : 2\n",
            "Enter n : 3\n",
            "8\n"
          ]
        }
      ]
    },
    {
      "cell_type": "markdown",
      "source": [
        "9. Program to print first n odd number"
      ],
      "metadata": {
        "id": "0_HOhY49Y_vL"
      }
    },
    {
      "cell_type": "code",
      "source": [
        "N = int(input(\"Enter the number of terms: \"))\n",
        "for i in range(1,2*N,2):\n",
        "  print(i,end = \" \")"
      ],
      "metadata": {
        "colab": {
          "base_uri": "https://localhost:8080/"
        },
        "id": "lZPNuIn8ZF_C",
        "outputId": "53b36a35-9676-428e-9c83-fc919318587f"
      },
      "execution_count": null,
      "outputs": [
        {
          "output_type": "stream",
          "name": "stdout",
          "text": [
            "Enter the number of terms: 10\n",
            "1 3 5 7 9 11 13 15 17 19 "
          ]
        }
      ]
    },
    {
      "cell_type": "markdown",
      "source": [
        "10. Program to print GCD of 2 numbers"
      ],
      "metadata": {
        "id": "XStyGBUVZd1w"
      }
    },
    {
      "cell_type": "code",
      "source": [
        "x = int(input(\"Enter number 1: \"))\n",
        "y = int(input(\"Enter number 2: \"))\n",
        "if x<y:\n",
        "  A = x \n",
        "  B = y\n",
        "else:\n",
        "  A = y\n",
        "  B = x\n",
        "while A > 0:\n",
        "  t = A \n",
        "  A = A%B\n",
        "  B = t\n",
        "  \n",
        "print('GCD =',B)"
      ],
      "metadata": {
        "id": "rWzzKXmMZS7H"
      },
      "execution_count": null,
      "outputs": []
    },
    {
      "cell_type": "markdown",
      "source": [
        "11. Program  to print factorial of a given number"
      ],
      "metadata": {
        "id": "3JGqPk1Ebb3d"
      }
    },
    {
      "cell_type": "code",
      "source": [
        "fact = 1 \n",
        "n = int(input(\"Enter a number: \"))\n",
        "for i in range(1,n+1):\n",
        "  fact=fact*i\n",
        "print(n,\"!=\",fact)"
      ],
      "metadata": {
        "colab": {
          "base_uri": "https://localhost:8080/"
        },
        "id": "73hBQORkbblK",
        "outputId": "783286b1-34fe-45b9-e65f-c208afa094b9"
      },
      "execution_count": null,
      "outputs": [
        {
          "output_type": "stream",
          "name": "stdout",
          "text": [
            "Enter a number: 5\n",
            "5 != 120\n"
          ]
        }
      ]
    },
    {
      "cell_type": "markdown",
      "source": [
        "12. Program to find sum squares of natural numbers between two numbers."
      ],
      "metadata": {
        "id": "qH8PPFDgcJuo"
      }
    },
    {
      "cell_type": "code",
      "source": [
        "A = int(input(\"Enter lower limit: \"))\n",
        "B = int(input(\"Enter upper limit: \"))\n",
        "sum = 0\n",
        "for i in range(A,B+1):\n",
        "  sum+=i*i\n",
        "print(sum)"
      ],
      "metadata": {
        "colab": {
          "base_uri": "https://localhost:8080/"
        },
        "id": "8V_GOmFmcgjK",
        "outputId": "d5d90b9e-630c-4850-87e4-8e042a13f4c1"
      },
      "execution_count": null,
      "outputs": [
        {
          "output_type": "stream",
          "name": "stdout",
          "text": [
            "Enter lower limit: 3\n",
            "Enter upper limit: 5\n",
            "50\n"
          ]
        }
      ]
    },
    {
      "cell_type": "markdown",
      "source": [
        "13. Program to find the sum of the given series, up to n terms.  S = 1 - 4 + 9 - 16 + ....\n"
      ],
      "metadata": {
        "id": "ZsO8pVhnoywI"
      }
    },
    {
      "cell_type": "code",
      "source": [
        "N = int(input(\"Enter the number of terms: \"))\n",
        "sum = 0\n",
        "for i in range(1,N+1):\n",
        "  if i%2 == 0:\n",
        "    sum-=i*i\n",
        "  else:\n",
        "    sum+=i*i\n",
        "print(sum)\n"
      ],
      "metadata": {
        "colab": {
          "base_uri": "https://localhost:8080/"
        },
        "id": "4arRm3T-o3m6",
        "outputId": "72b34e67-4b54-44d1-e09e-7c2f6d880aea"
      },
      "execution_count": null,
      "outputs": [
        {
          "output_type": "stream",
          "name": "stdout",
          "text": [
            "Enter the number of terms: 4\n",
            "-10\n"
          ]
        }
      ]
    },
    {
      "cell_type": "markdown",
      "source": [
        "14. Program to check whether a given number is Automorphic or not"
      ],
      "metadata": {
        "id": "5Pn9uUSLp5q_"
      }
    },
    {
      "cell_type": "code",
      "source": [
        "#625/25\n",
        "n = int(input(\"Enter a number\"))\n",
        "tn = n\n",
        "ns = n**2\n",
        "nts = ns\n",
        "isauto = False\n",
        "while tn>0:\n",
        "  if (nts%10 == tn%10):\n",
        "    isauto =True\n",
        "  else:\n",
        "    isauto = False\n",
        "  nts=nts//10\n",
        "  tn = tn//10\n",
        "\n",
        "print(isauto)"
      ],
      "metadata": {
        "colab": {
          "base_uri": "https://localhost:8080/"
        },
        "id": "gt7xWl98qCzL",
        "outputId": "1d0370ab-c461-4df7-abc7-4e6add09fd48"
      },
      "execution_count": null,
      "outputs": [
        {
          "output_type": "stream",
          "name": "stdout",
          "text": [
            "Enter a number4\n",
            "16   16\n",
            "False\n"
          ]
        }
      ]
    },
    {
      "cell_type": "markdown",
      "source": [
        "15. Program to read a binary number and print its decimal equivalent."
      ],
      "metadata": {
        "id": "WAuIg3dTqC-6"
      }
    },
    {
      "cell_type": "code",
      "source": [
        "bin = int(input(\"Enter a binary number: \"))\n",
        "bt = bin\n",
        "pow = 0\n",
        "dec = 0\n",
        "while bt > 0:\n",
        "  rem = bt%10\n",
        "  dec = dec + (2**pow)*rem\n",
        "  bt = bt//10\n",
        "  pow = pow + 1\n",
        "print(bin, \" = \", dec)\n"
      ],
      "metadata": {
        "colab": {
          "base_uri": "https://localhost:8080/"
        },
        "id": "VHdQBDPbqG-L",
        "outputId": "d2012eb3-2814-4fea-cf2b-fd908a45c973"
      },
      "execution_count": null,
      "outputs": [
        {
          "output_type": "stream",
          "name": "stdout",
          "text": [
            "Enter a binary number: 10011011\n",
            "10011011  =  155\n"
          ]
        }
      ]
    }
  ]
}